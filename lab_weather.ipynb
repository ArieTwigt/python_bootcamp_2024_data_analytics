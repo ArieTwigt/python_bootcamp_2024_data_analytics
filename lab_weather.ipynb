{
 "cells": [
  {
   "cell_type": "code",
   "execution_count": 41,
   "metadata": {},
   "outputs": [
    {
     "data": {
      "text/plain": [
       "True"
      ]
     },
     "execution_count": 41,
     "metadata": {},
     "output_type": "execute_result"
    }
   ],
   "source": [
    "import requests\n",
    "from dotenv import load_dotenv\n",
    "import os\n",
    "import pandas as pd\n",
    "\n",
    "load_dotenv()"
   ]
  },
  {
   "cell_type": "code",
   "execution_count": 80,
   "metadata": {},
   "outputs": [],
   "source": [
    "# define the endpoint\n",
    "api_key = os.environ.get('WEATHER_MAP_KEY')\n",
    "city = input(\"Select a city:\")\n",
    "endpoint = f\"https://api.openweathermap.org/data/2.5/forecast?q={city}&appid={api_key}&units=metric\""
   ]
  },
  {
   "cell_type": "code",
   "execution_count": 81,
   "metadata": {},
   "outputs": [
    {
     "data": {
      "text/plain": [
       "200"
      ]
     },
     "execution_count": 81,
     "metadata": {},
     "output_type": "execute_result"
    }
   ],
   "source": [
    "# send the request\n",
    "response = requests.get(endpoint)\n",
    "response.status_code"
   ]
  },
  {
   "cell_type": "code",
   "execution_count": 82,
   "metadata": {},
   "outputs": [],
   "source": [
    "# get the data from the response\n",
    "data = response.json()"
   ]
  },
  {
   "cell_type": "code",
   "execution_count": 83,
   "metadata": {},
   "outputs": [],
   "source": [
    "temperatures = []\n",
    "temperature_feel_like = []\n",
    "weather_descriptions = []\n",
    "wind_speeds = []\n",
    "dates = []\n",
    "\n",
    "for prediction in data['list']:\n",
    "    temperatures.append(prediction['main']['temp'])\n",
    "    temperature_feel_like.append(prediction['main']['feels_like'])\n",
    "    weather_descriptions.append(prediction['weather'][0]['description'])\n",
    "    wind_speeds.append(prediction['wind']['speed'])\n",
    "    dates.append(prediction['dt_txt'])"
   ]
  },
  {
   "cell_type": "code",
   "execution_count": 84,
   "metadata": {},
   "outputs": [],
   "source": [
    "# create the Data Frame\n",
    "df_weather = pd.DataFrame({\n",
    "    'date': dates,\n",
    "    'temperature': temperatures,\n",
    "    'temperature_feels_like': temperature_feel_like,\n",
    "    'description': weather_descriptions,\n",
    "    'wind_speed': wind_speeds\n",
    "})"
   ]
  },
  {
   "cell_type": "code",
   "execution_count": 85,
   "metadata": {},
   "outputs": [
    {
     "data": {
      "text/html": [
       "<div>\n",
       "<style scoped>\n",
       "    .dataframe tbody tr th:only-of-type {\n",
       "        vertical-align: middle;\n",
       "    }\n",
       "\n",
       "    .dataframe tbody tr th {\n",
       "        vertical-align: top;\n",
       "    }\n",
       "\n",
       "    .dataframe thead th {\n",
       "        text-align: right;\n",
       "    }\n",
       "</style>\n",
       "<table border=\"1\" class=\"dataframe\">\n",
       "  <thead>\n",
       "    <tr style=\"text-align: right;\">\n",
       "      <th></th>\n",
       "      <th>date</th>\n",
       "      <th>temperature</th>\n",
       "      <th>temperature_feels_like</th>\n",
       "      <th>description</th>\n",
       "      <th>wind_speed</th>\n",
       "    </tr>\n",
       "  </thead>\n",
       "  <tbody>\n",
       "    <tr>\n",
       "      <th>0</th>\n",
       "      <td>2024-10-17 12:00:00</td>\n",
       "      <td>17.37</td>\n",
       "      <td>17.43</td>\n",
       "      <td>broken clouds</td>\n",
       "      <td>4.28</td>\n",
       "    </tr>\n",
       "    <tr>\n",
       "      <th>1</th>\n",
       "      <td>2024-10-17 15:00:00</td>\n",
       "      <td>17.89</td>\n",
       "      <td>17.95</td>\n",
       "      <td>light rain</td>\n",
       "      <td>2.87</td>\n",
       "    </tr>\n",
       "    <tr>\n",
       "      <th>2</th>\n",
       "      <td>2024-10-17 18:00:00</td>\n",
       "      <td>15.06</td>\n",
       "      <td>15.08</td>\n",
       "      <td>overcast clouds</td>\n",
       "      <td>1.09</td>\n",
       "    </tr>\n",
       "    <tr>\n",
       "      <th>3</th>\n",
       "      <td>2024-10-17 21:00:00</td>\n",
       "      <td>15.46</td>\n",
       "      <td>15.44</td>\n",
       "      <td>overcast clouds</td>\n",
       "      <td>1.48</td>\n",
       "    </tr>\n",
       "    <tr>\n",
       "      <th>4</th>\n",
       "      <td>2024-10-18 00:00:00</td>\n",
       "      <td>14.78</td>\n",
       "      <td>14.72</td>\n",
       "      <td>overcast clouds</td>\n",
       "      <td>1.18</td>\n",
       "    </tr>\n",
       "  </tbody>\n",
       "</table>\n",
       "</div>"
      ],
      "text/plain": [
       "                  date  temperature  temperature_feels_like      description  \\\n",
       "0  2024-10-17 12:00:00        17.37                   17.43    broken clouds   \n",
       "1  2024-10-17 15:00:00        17.89                   17.95       light rain   \n",
       "2  2024-10-17 18:00:00        15.06                   15.08  overcast clouds   \n",
       "3  2024-10-17 21:00:00        15.46                   15.44  overcast clouds   \n",
       "4  2024-10-18 00:00:00        14.78                   14.72  overcast clouds   \n",
       "\n",
       "   wind_speed  \n",
       "0        4.28  \n",
       "1        2.87  \n",
       "2        1.09  \n",
       "3        1.48  \n",
       "4        1.18  "
      ]
     },
     "execution_count": 85,
     "metadata": {},
     "output_type": "execute_result"
    }
   ],
   "source": [
    "df_weather.head()"
   ]
  },
  {
   "cell_type": "code",
   "execution_count": 86,
   "metadata": {},
   "outputs": [
    {
     "name": "stdout",
     "output_type": "stream",
     "text": [
      "<class 'pandas.core.frame.DataFrame'>\n",
      "RangeIndex: 40 entries, 0 to 39\n",
      "Data columns (total 5 columns):\n",
      " #   Column                  Non-Null Count  Dtype  \n",
      "---  ------                  --------------  -----  \n",
      " 0   date                    40 non-null     object \n",
      " 1   temperature             40 non-null     float64\n",
      " 2   temperature_feels_like  40 non-null     float64\n",
      " 3   description             40 non-null     object \n",
      " 4   wind_speed              40 non-null     float64\n",
      "dtypes: float64(3), object(2)\n",
      "memory usage: 1.7+ KB\n"
     ]
    }
   ],
   "source": [
    "df_weather.info()"
   ]
  },
  {
   "cell_type": "code",
   "execution_count": 91,
   "metadata": {},
   "outputs": [
    {
     "name": "stdout",
     "output_type": "stream",
     "text": [
      "<class 'pandas.core.frame.DataFrame'>\n",
      "RangeIndex: 40 entries, 0 to 39\n",
      "Data columns (total 5 columns):\n",
      " #   Column                  Non-Null Count  Dtype         \n",
      "---  ------                  --------------  -----         \n",
      " 0   date                    40 non-null     datetime64[ns]\n",
      " 1   temperature             40 non-null     float64       \n",
      " 2   temperature_feels_like  40 non-null     float64       \n",
      " 3   description             40 non-null     object        \n",
      " 4   wind_speed              40 non-null     float64       \n",
      "dtypes: datetime64[ns](1), float64(3), object(1)\n",
      "memory usage: 1.7+ KB\n"
     ]
    }
   ],
   "source": [
    "#pd.to_datetime(df_weather['date'], format=\"%Y-%m-%d %H:%M:%S\")\n",
    "df_weather['date'] = pd.to_datetime(df_weather['date'])\n",
    "\n",
    "df_weather.info()"
   ]
  },
  {
   "cell_type": "code",
   "execution_count": 95,
   "metadata": {},
   "outputs": [],
   "source": [
    "with pd.ExcelWriter('export.xlsx') as writer:\n",
    "    df_weather.to_excel(writer, sheet_name=\"weather_predictions\")"
   ]
  },
  {
   "cell_type": "code",
   "execution_count": null,
   "metadata": {},
   "outputs": [],
   "source": [
    "#!pip install openpyxl"
   ]
  }
 ],
 "metadata": {
  "kernelspec": {
   "display_name": "venv",
   "language": "python",
   "name": "python3"
  },
  "language_info": {
   "codemirror_mode": {
    "name": "ipython",
    "version": 3
   },
   "file_extension": ".py",
   "mimetype": "text/x-python",
   "name": "python",
   "nbconvert_exporter": "python",
   "pygments_lexer": "ipython3",
   "version": "3.12.4"
  }
 },
 "nbformat": 4,
 "nbformat_minor": 2
}
