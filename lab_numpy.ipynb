{
 "cells": [
  {
   "cell_type": "code",
   "execution_count": 25,
   "metadata": {},
   "outputs": [],
   "source": [
    "import numpy as np\n",
    "import math"
   ]
  },
  {
   "cell_type": "code",
   "execution_count": 2,
   "metadata": {},
   "outputs": [],
   "source": [
    "my_list = [1, 2, 3, 4, 5]\n",
    "my_array = np.array(my_list)"
   ]
  },
  {
   "cell_type": "code",
   "execution_count": 11,
   "metadata": {},
   "outputs": [
    {
     "ename": "TypeError",
     "evalue": "can't multiply sequence by non-int of type 'list'",
     "output_type": "error",
     "traceback": [
      "\u001b[0;31m---------------------------------------------------------------------------\u001b[0m",
      "\u001b[0;31mTypeError\u001b[0m                                 Traceback (most recent call last)",
      "Cell \u001b[0;32mIn[11], line 1\u001b[0m\n\u001b[0;32m----> 1\u001b[0m \u001b[43mmy_list\u001b[49m\u001b[43m \u001b[49m\u001b[38;5;241;43m*\u001b[39;49m\u001b[43m \u001b[49m\u001b[43mmy_list\u001b[49m\n",
      "\u001b[0;31mTypeError\u001b[0m: can't multiply sequence by non-int of type 'list'"
     ]
    }
   ],
   "source": [
    "my_list * my_list"
   ]
  },
  {
   "cell_type": "code",
   "execution_count": 13,
   "metadata": {},
   "outputs": [
    {
     "data": {
      "text/plain": [
       "array([101, 104, 109, 116, 125])"
      ]
     },
     "execution_count": 13,
     "metadata": {},
     "output_type": "execute_result"
    }
   ],
   "source": [
    "(my_array * my_array) + 100"
   ]
  },
  {
   "cell_type": "code",
   "execution_count": null,
   "metadata": {},
   "outputs": [],
   "source": []
  },
  {
   "cell_type": "markdown",
   "metadata": {},
   "source": [
    "# Assignments"
   ]
  },
  {
   "cell_type": "code",
   "execution_count": 14,
   "metadata": {},
   "outputs": [],
   "source": [
    "# 1\n",
    "array_1 = np.array([20, 56])\n",
    "array_2 = np.array([11, 78])\n",
    "array_3 = np.array([43, 65])"
   ]
  },
  {
   "cell_type": "code",
   "execution_count": 21,
   "metadata": {},
   "outputs": [
    {
     "data": {
      "text/plain": [
       "array([20, 56, 11, 78, 43, 65])"
      ]
     },
     "execution_count": 21,
     "metadata": {},
     "output_type": "execute_result"
    }
   ],
   "source": [
    "# 2. Combine the arrays to a single array called diameters\n",
    "diameters = np.concatenate([array_1, array_2, array_3])\n",
    "diameters"
   ]
  },
  {
   "cell_type": "markdown",
   "metadata": {},
   "source": []
  },
  {
   "cell_type": "code",
   "execution_count": 26,
   "metadata": {},
   "outputs": [],
   "source": [
    "# 3. function to calculate a circle\n",
    "def calc_circle(diameter):\n",
    "    radius = diameter / 2\n",
    "    area = (radius ** 2) * math.pi\n",
    "    return area"
   ]
  },
  {
   "cell_type": "code",
   "execution_count": 33,
   "metadata": {},
   "outputs": [
    {
     "data": {
      "text/plain": [
       "314.1592653589793"
      ]
     },
     "execution_count": 33,
     "metadata": {},
     "output_type": "execute_result"
    }
   ],
   "source": [
    "calc_circle(20)"
   ]
  },
  {
   "cell_type": "code",
   "execution_count": 36,
   "metadata": {},
   "outputs": [
    {
     "data": {
      "text/plain": [
       "array([ 314.15926536, 2463.00864041,   95.03317777, 4778.36242611,\n",
       "       1452.20120412, 3318.30724035])"
      ]
     },
     "execution_count": 36,
     "metadata": {},
     "output_type": "execute_result"
    }
   ],
   "source": [
    "# 4. \n",
    "sizes_circle = calc_circle(diameters)\n",
    "sizes_circle"
   ]
  },
  {
   "cell_type": "code",
   "execution_count": 42,
   "metadata": {},
   "outputs": [
    {
     "data": {
      "text/plain": [
       "array([2463.00864041, 4778.36242611, 3318.30724035])"
      ]
     },
     "execution_count": 42,
     "metadata": {},
     "output_type": "execute_result"
    }
   ],
   "source": [
    "# 5. Filter the sizes_circle array for only values above the avarage value of the sizes_circle array.\n",
    "mean_size = np.mean(sizes_circle)\n",
    "\n",
    "sizes_circle[sizes_circle > mean_size]"
   ]
  },
  {
   "cell_type": "code",
   "execution_count": 43,
   "metadata": {},
   "outputs": [],
   "source": [
    "# 6. \n",
    "def summarize(input_array):\n",
    "    num_values = len(input_array)\n",
    "    std_value = np.std(input_array)\n",
    "    min_value = np.min(input_array)\n",
    "    max_value = np.max(input_array)\n",
    "    unique_values = np.unique(input_array)\n",
    "    num_unique_values = len(unique_values)\n",
    "\n",
    "    summary_str = f\"\"\"\n",
    "    Values: {num_values}\n",
    "    Std: {std_value}\n",
    "    Min: {min_value}\n",
    "    Max: {max_value}\n",
    "    Unique: {unique_values}\n",
    "    Num unique: {num_unique_values}\n",
    "    \n",
    "    \"\"\"\n",
    "\n",
    "    print(summary_str)"
   ]
  },
  {
   "cell_type": "code",
   "execution_count": 44,
   "metadata": {},
   "outputs": [
    {
     "name": "stdout",
     "output_type": "stream",
     "text": [
      "\n",
      "    Values: 6\n",
      "    Std: 1653.9397199782222\n",
      "    Min: 95.03317777109125\n",
      "    Max: 4778.362426110075\n",
      "    Unique: [  95.03317777  314.15926536 1452.20120412 2463.00864041 3318.30724035\n",
      " 4778.36242611]\n",
      "    Num unique: 6\n",
      "    \n",
      "    \n"
     ]
    }
   ],
   "source": [
    "summarize(sizes_circle)"
   ]
  },
  {
   "cell_type": "code",
   "execution_count": null,
   "metadata": {},
   "outputs": [],
   "source": []
  }
 ],
 "metadata": {
  "kernelspec": {
   "display_name": "venv",
   "language": "python",
   "name": "python3"
  },
  "language_info": {
   "codemirror_mode": {
    "name": "ipython",
    "version": 3
   },
   "file_extension": ".py",
   "mimetype": "text/x-python",
   "name": "python",
   "nbconvert_exporter": "python",
   "pygments_lexer": "ipython3",
   "version": "3.12.4"
  }
 },
 "nbformat": 4,
 "nbformat_minor": 2
}
